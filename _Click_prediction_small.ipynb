{
 "cells": [
  {
   "cell_type": "markdown",
   "id": "abae067b",
   "metadata": {},
   "source": [
    "# <center>Click_prediction_small dataset</center> "
   ]
  },
  {
   "cell_type": "markdown",
   "id": "9ba4a039",
   "metadata": {},
   "source": [
    "<h2>Dataset Description:</h2>\n",
    "    \n",
    "The data is about the advertisements that appear next to search results in a search engine and whether or not users click on them. \n",
    "The goal is to create the most precise model to forecast whether a person would click on a specific advertisement. A search session includes data on the user's ID, the query they entered, the ads that were shown to them, and a target feature that shows if they clicked at least one of the ads during this session. \"Depth\" refers to the quantity of advertisements shown to a user during a session. Position refers to ad's placement in the list that is being displayed. A short sentence called \"title,\" a little longer phrase called \"description,\" and a URL called \"display URL\" are used to display an advertisement.\n",
    "Each session was divided into many instances to create the dataset. Each instance describes an advertisement seen in a certain setting (such as \"depth\" or \"position\"). Similar user, ad, query, and setting instance instances are combined. Additional properties for each user and each ad are kept in separate data files and may be sought up using the instance ids."
   ]
  },
  {
   "cell_type": "markdown",
   "id": "d8a86683",
   "metadata": {},
   "source": [
    "<h2>Columns Description:</h2>\n",
    "<ul> \n",
    "<li>Click – binary variable indicating whether a user clicked on at least one ad.</li>\n",
    "<li>Impression - the number of search sessions in which AdID was impressed by UserID who issued Query.</li>\n",
    "<li>Url_hash - URL is hashed for anonymity</li>\n",
    "<li>AdID</li>\n",
    "<li>AdvertiserID - some advertisers consistently optimize their ads, so the title and description of their ads are more attractive than those of others’ ads.</li>\n",
    "<li>Depth - number of ads displayed to a user in a session</li>\n",
    "<li>Position - order of an ad in the displayed list</li>\n",
    "<li>QueryID - is the key of the data file 'queryid_tokensid.txt'. (follow the link to the original KDD Cup page, track 2)\n",
    "<li>KeywordID - is the key of 'purchasedkeyword_tokensid.txt' (follow the link to the original KDD Cup page, track 2)\n",
    "<li>TitleID - is the key of 'titleid_tokensid.txt'\n",
    "<li>DescriptionID - is the key of 'descriptionid_tokensid.txt' (follow the link to the original KDD Cup page, track 2)\n",
    "<li>UserID – is also the key of 'userid_profile.txt' (follow the link to the original KDD Cup page, track 2). 0 is a special value denoting that the user could be identified</li>\n",
    "</ul>"
   ]
  },
  {
   "cell_type": "code",
   "execution_count": 1,
   "id": "02d3e7e9",
   "metadata": {},
   "outputs": [],
   "source": [
    "#Importing Libraries \n",
    "import pandas as pd\n",
    "import numpy as np \n",
    "import matplotlib.pyplot as plt\n",
    "%matplotlib inline \n",
    "import seaborn as sns \n",
    "from sklearn.model_selection import train_test_split\n",
    "from sklearn.ensemble import RandomForestClassifier,IsolationForest\n",
    "from sklearn.metrics import accuracy_score,plot_confusion_matrix\n",
    "from sklearn.preprocessing import StandardScaler\n",
    "from imblearn.over_sampling import SMOTE,RandomOverSampler\n",
    "from sklearn.preprocessing import StandardScaler,LabelEncoder\n",
    "from sklearn.metrics import accuracy_score, confusion_matrix, roc_auc_score, roc_curve\n",
    "from imblearn.over_sampling import ADASYN\n",
    "from sklearn.metrics import roc_auc_score\n",
    "from sklearn.metrics import roc_curve\n",
    "from imblearn.under_sampling import NearMiss\n",
    "from sklearn.cluster import KMeans\n",
    "from sklearn.model_selection import learning_curve\n",
    "from mlxtend.evaluate import bias_variance_decomp\n"
   ]
  },
  {
   "cell_type": "code",
   "execution_count": 2,
   "id": "88a0b7f4",
   "metadata": {},
   "outputs": [
    {
     "data": {
      "text/html": [
       "<div>\n",
       "<style scoped>\n",
       "    .dataframe tbody tr th:only-of-type {\n",
       "        vertical-align: middle;\n",
       "    }\n",
       "\n",
       "    .dataframe tbody tr th {\n",
       "        vertical-align: top;\n",
       "    }\n",
       "\n",
       "    .dataframe thead th {\n",
       "        text-align: right;\n",
       "    }\n",
       "</style>\n",
       "<table border=\"1\" class=\"dataframe\">\n",
       "  <thead>\n",
       "    <tr style=\"text-align: right;\">\n",
       "      <th></th>\n",
       "      <th>click</th>\n",
       "      <th>impression</th>\n",
       "      <th>url_hash</th>\n",
       "      <th>ad_id</th>\n",
       "      <th>advertiser_id</th>\n",
       "      <th>depth</th>\n",
       "      <th>position</th>\n",
       "      <th>query_id</th>\n",
       "      <th>keyword_id</th>\n",
       "      <th>title_id</th>\n",
       "      <th>description_id</th>\n",
       "      <th>user_id</th>\n",
       "    </tr>\n",
       "  </thead>\n",
       "  <tbody>\n",
       "    <tr>\n",
       "      <th>0</th>\n",
       "      <td>0</td>\n",
       "      <td>1</td>\n",
       "      <td>1.071003e+19</td>\n",
       "      <td>8343295</td>\n",
       "      <td>11700</td>\n",
       "      <td>3</td>\n",
       "      <td>3</td>\n",
       "      <td>7702266</td>\n",
       "      <td>21264</td>\n",
       "      <td>27892</td>\n",
       "      <td>1559</td>\n",
       "      <td>0</td>\n",
       "    </tr>\n",
       "    <tr>\n",
       "      <th>1</th>\n",
       "      <td>1</td>\n",
       "      <td>1</td>\n",
       "      <td>1.736385e+19</td>\n",
       "      <td>20017077</td>\n",
       "      <td>23798</td>\n",
       "      <td>1</td>\n",
       "      <td>1</td>\n",
       "      <td>93079</td>\n",
       "      <td>35498</td>\n",
       "      <td>4</td>\n",
       "      <td>36476</td>\n",
       "      <td>562934</td>\n",
       "    </tr>\n",
       "    <tr>\n",
       "      <th>2</th>\n",
       "      <td>0</td>\n",
       "      <td>1</td>\n",
       "      <td>8.915473e+18</td>\n",
       "      <td>21348354</td>\n",
       "      <td>36654</td>\n",
       "      <td>1</td>\n",
       "      <td>1</td>\n",
       "      <td>10981</td>\n",
       "      <td>19975</td>\n",
       "      <td>36105</td>\n",
       "      <td>33292</td>\n",
       "      <td>11621116</td>\n",
       "    </tr>\n",
       "    <tr>\n",
       "      <th>3</th>\n",
       "      <td>0</td>\n",
       "      <td>1</td>\n",
       "      <td>4.426693e+18</td>\n",
       "      <td>20366086</td>\n",
       "      <td>33280</td>\n",
       "      <td>3</td>\n",
       "      <td>3</td>\n",
       "      <td>0</td>\n",
       "      <td>5942</td>\n",
       "      <td>4057</td>\n",
       "      <td>4390</td>\n",
       "      <td>8778348</td>\n",
       "    </tr>\n",
       "    <tr>\n",
       "      <th>4</th>\n",
       "      <td>0</td>\n",
       "      <td>1</td>\n",
       "      <td>1.157260e+19</td>\n",
       "      <td>6803526</td>\n",
       "      <td>10790</td>\n",
       "      <td>2</td>\n",
       "      <td>1</td>\n",
       "      <td>9881978</td>\n",
       "      <td>60593</td>\n",
       "      <td>25242</td>\n",
       "      <td>1679</td>\n",
       "      <td>12118311</td>\n",
       "    </tr>\n",
       "    <tr>\n",
       "      <th>...</th>\n",
       "      <td>...</td>\n",
       "      <td>...</td>\n",
       "      <td>...</td>\n",
       "      <td>...</td>\n",
       "      <td>...</td>\n",
       "      <td>...</td>\n",
       "      <td>...</td>\n",
       "      <td>...</td>\n",
       "      <td>...</td>\n",
       "      <td>...</td>\n",
       "      <td>...</td>\n",
       "      <td>...</td>\n",
       "    </tr>\n",
       "    <tr>\n",
       "      <th>39943</th>\n",
       "      <td>0</td>\n",
       "      <td>1</td>\n",
       "      <td>3.593550e+18</td>\n",
       "      <td>21898643</td>\n",
       "      <td>37867</td>\n",
       "      <td>2</td>\n",
       "      <td>1</td>\n",
       "      <td>12825939</td>\n",
       "      <td>1091</td>\n",
       "      <td>1657</td>\n",
       "      <td>1914</td>\n",
       "      <td>0</td>\n",
       "    </tr>\n",
       "    <tr>\n",
       "      <th>39944</th>\n",
       "      <td>0</td>\n",
       "      <td>1</td>\n",
       "      <td>1.760828e+19</td>\n",
       "      <td>20575578</td>\n",
       "      <td>8873</td>\n",
       "      <td>2</td>\n",
       "      <td>1</td>\n",
       "      <td>11699</td>\n",
       "      <td>8338</td>\n",
       "      <td>7866</td>\n",
       "      <td>9210</td>\n",
       "      <td>19487</td>\n",
       "    </tr>\n",
       "    <tr>\n",
       "      <th>39945</th>\n",
       "      <td>0</td>\n",
       "      <td>5</td>\n",
       "      <td>9.613260e+18</td>\n",
       "      <td>21183848</td>\n",
       "      <td>18716</td>\n",
       "      <td>2</td>\n",
       "      <td>1</td>\n",
       "      <td>243826</td>\n",
       "      <td>9594</td>\n",
       "      <td>8881</td>\n",
       "      <td>13277</td>\n",
       "      <td>2305</td>\n",
       "    </tr>\n",
       "    <tr>\n",
       "      <th>39946</th>\n",
       "      <td>0</td>\n",
       "      <td>1</td>\n",
       "      <td>9.750423e+18</td>\n",
       "      <td>21222438</td>\n",
       "      <td>35880</td>\n",
       "      <td>3</td>\n",
       "      <td>3</td>\n",
       "      <td>7130804</td>\n",
       "      <td>13078</td>\n",
       "      <td>943122</td>\n",
       "      <td>1436</td>\n",
       "      <td>0</td>\n",
       "    </tr>\n",
       "    <tr>\n",
       "      <th>39947</th>\n",
       "      <td>0</td>\n",
       "      <td>1</td>\n",
       "      <td>1.205788e+19</td>\n",
       "      <td>20180245</td>\n",
       "      <td>27961</td>\n",
       "      <td>1</td>\n",
       "      <td>1</td>\n",
       "      <td>21659</td>\n",
       "      <td>39732</td>\n",
       "      <td>88617</td>\n",
       "      <td>88724</td>\n",
       "      <td>5602668</td>\n",
       "    </tr>\n",
       "  </tbody>\n",
       "</table>\n",
       "<p>39948 rows × 12 columns</p>\n",
       "</div>"
      ],
      "text/plain": [
       "       click  impression      url_hash     ad_id  advertiser_id  depth  \\\n",
       "0          0           1  1.071003e+19   8343295          11700      3   \n",
       "1          1           1  1.736385e+19  20017077          23798      1   \n",
       "2          0           1  8.915473e+18  21348354          36654      1   \n",
       "3          0           1  4.426693e+18  20366086          33280      3   \n",
       "4          0           1  1.157260e+19   6803526          10790      2   \n",
       "...      ...         ...           ...       ...            ...    ...   \n",
       "39943      0           1  3.593550e+18  21898643          37867      2   \n",
       "39944      0           1  1.760828e+19  20575578           8873      2   \n",
       "39945      0           5  9.613260e+18  21183848          18716      2   \n",
       "39946      0           1  9.750423e+18  21222438          35880      3   \n",
       "39947      0           1  1.205788e+19  20180245          27961      1   \n",
       "\n",
       "       position  query_id  keyword_id  title_id  description_id   user_id  \n",
       "0             3   7702266       21264     27892            1559         0  \n",
       "1             1     93079       35498         4           36476    562934  \n",
       "2             1     10981       19975     36105           33292  11621116  \n",
       "3             3         0        5942      4057            4390   8778348  \n",
       "4             1   9881978       60593     25242            1679  12118311  \n",
       "...         ...       ...         ...       ...             ...       ...  \n",
       "39943         1  12825939        1091      1657            1914         0  \n",
       "39944         1     11699        8338      7866            9210     19487  \n",
       "39945         1    243826        9594      8881           13277      2305  \n",
       "39946         3   7130804       13078    943122            1436         0  \n",
       "39947         1     21659       39732     88617           88724   5602668  \n",
       "\n",
       "[39948 rows x 12 columns]"
      ]
     },
     "execution_count": 2,
     "metadata": {},
     "output_type": "execute_result"
    }
   ],
   "source": [
    "#reading the dataset\n",
    "df = pd.read_csv(\"phpfGCaQC.csv\")\n",
    "df"
   ]
  },
  {
   "cell_type": "code",
   "execution_count": 3,
   "id": "c1826cf6",
   "metadata": {},
   "outputs": [
    {
     "data": {
      "text/plain": [
       "(39948, 12)"
      ]
     },
     "execution_count": 3,
     "metadata": {},
     "output_type": "execute_result"
    }
   ],
   "source": [
    "df.shape "
   ]
  },
  {
   "cell_type": "code",
   "execution_count": 4,
   "id": "dab74418",
   "metadata": {},
   "outputs": [
    {
     "data": {
      "text/plain": [
       "click               int64\n",
       "impression          int64\n",
       "url_hash          float64\n",
       "ad_id               int64\n",
       "advertiser_id       int64\n",
       "depth               int64\n",
       "position            int64\n",
       "query_id            int64\n",
       "keyword_id          int64\n",
       "title_id            int64\n",
       "description_id      int64\n",
       "user_id             int64\n",
       "dtype: object"
      ]
     },
     "execution_count": 4,
     "metadata": {},
     "output_type": "execute_result"
    }
   ],
   "source": [
    "df.dtypes"
   ]
  },
  {
   "cell_type": "code",
   "execution_count": 5,
   "id": "2e6944f7",
   "metadata": {},
   "outputs": [
    {
     "data": {
      "text/html": [
       "<div>\n",
       "<style scoped>\n",
       "    .dataframe tbody tr th:only-of-type {\n",
       "        vertical-align: middle;\n",
       "    }\n",
       "\n",
       "    .dataframe tbody tr th {\n",
       "        vertical-align: top;\n",
       "    }\n",
       "\n",
       "    .dataframe thead th {\n",
       "        text-align: right;\n",
       "    }\n",
       "</style>\n",
       "<table border=\"1\" class=\"dataframe\">\n",
       "  <thead>\n",
       "    <tr style=\"text-align: right;\">\n",
       "      <th></th>\n",
       "      <th>Percent_missing</th>\n",
       "    </tr>\n",
       "  </thead>\n",
       "  <tbody>\n",
       "    <tr>\n",
       "      <th>click</th>\n",
       "      <td>0.0</td>\n",
       "    </tr>\n",
       "    <tr>\n",
       "      <th>impression</th>\n",
       "      <td>0.0</td>\n",
       "    </tr>\n",
       "    <tr>\n",
       "      <th>url_hash</th>\n",
       "      <td>0.0</td>\n",
       "    </tr>\n",
       "    <tr>\n",
       "      <th>ad_id</th>\n",
       "      <td>0.0</td>\n",
       "    </tr>\n",
       "    <tr>\n",
       "      <th>advertiser_id</th>\n",
       "      <td>0.0</td>\n",
       "    </tr>\n",
       "    <tr>\n",
       "      <th>depth</th>\n",
       "      <td>0.0</td>\n",
       "    </tr>\n",
       "    <tr>\n",
       "      <th>position</th>\n",
       "      <td>0.0</td>\n",
       "    </tr>\n",
       "    <tr>\n",
       "      <th>query_id</th>\n",
       "      <td>0.0</td>\n",
       "    </tr>\n",
       "    <tr>\n",
       "      <th>keyword_id</th>\n",
       "      <td>0.0</td>\n",
       "    </tr>\n",
       "    <tr>\n",
       "      <th>title_id</th>\n",
       "      <td>0.0</td>\n",
       "    </tr>\n",
       "    <tr>\n",
       "      <th>description_id</th>\n",
       "      <td>0.0</td>\n",
       "    </tr>\n",
       "    <tr>\n",
       "      <th>user_id</th>\n",
       "      <td>0.0</td>\n",
       "    </tr>\n",
       "  </tbody>\n",
       "</table>\n",
       "</div>"
      ],
      "text/plain": [
       "                Percent_missing\n",
       "click                       0.0\n",
       "impression                  0.0\n",
       "url_hash                    0.0\n",
       "ad_id                       0.0\n",
       "advertiser_id               0.0\n",
       "depth                       0.0\n",
       "position                    0.0\n",
       "query_id                    0.0\n",
       "keyword_id                  0.0\n",
       "title_id                    0.0\n",
       "description_id              0.0\n",
       "user_id                     0.0"
      ]
     },
     "execution_count": 5,
     "metadata": {},
     "output_type": "execute_result"
    }
   ],
   "source": [
    "#Getting the percentage of missing values in each column  \n",
    "percent_missing = df.isnull().sum() * 100 / len(df)\n",
    "missing_value_df = pd.DataFrame({'Percent_missing': percent_missing})\n",
    "missing_value_df"
   ]
  },
  {
   "cell_type": "code",
   "execution_count": 6,
   "id": "c060c662",
   "metadata": {},
   "outputs": [
    {
     "data": {
      "text/plain": [
       "22"
      ]
     },
     "execution_count": 6,
     "metadata": {},
     "output_type": "execute_result"
    }
   ],
   "source": [
    "#getting duplicates \n",
    "df.duplicated().sum()"
   ]
  },
  {
   "cell_type": "code",
   "execution_count": 7,
   "id": "8f678a52",
   "metadata": {},
   "outputs": [],
   "source": [
    "#dropping duplicates\n",
    "df.drop_duplicates(keep= 'first' , inplace=True)"
   ]
  },
  {
   "cell_type": "code",
   "execution_count": 8,
   "id": "9942042d",
   "metadata": {},
   "outputs": [
    {
     "data": {
      "text/plain": [
       "0"
      ]
     },
     "execution_count": 8,
     "metadata": {},
     "output_type": "execute_result"
    }
   ],
   "source": [
    "df.duplicated().sum()"
   ]
  },
  {
   "cell_type": "code",
   "execution_count": 9,
   "id": "381634c7",
   "metadata": {},
   "outputs": [
    {
     "data": {
      "text/plain": [
       "(39926, 12)"
      ]
     },
     "execution_count": 9,
     "metadata": {},
     "output_type": "execute_result"
    }
   ],
   "source": [
    "#getting the sape \n",
    "df.shape"
   ]
  },
  {
   "cell_type": "code",
   "execution_count": 10,
   "id": "d9dc2344",
   "metadata": {},
   "outputs": [
    {
     "data": {
      "text/html": [
       "<div>\n",
       "<style scoped>\n",
       "    .dataframe tbody tr th:only-of-type {\n",
       "        vertical-align: middle;\n",
       "    }\n",
       "\n",
       "    .dataframe tbody tr th {\n",
       "        vertical-align: top;\n",
       "    }\n",
       "\n",
       "    .dataframe thead th {\n",
       "        text-align: right;\n",
       "    }\n",
       "</style>\n",
       "<table border=\"1\" class=\"dataframe\">\n",
       "  <thead>\n",
       "    <tr style=\"text-align: right;\">\n",
       "      <th></th>\n",
       "      <th>click</th>\n",
       "      <th>impression</th>\n",
       "      <th>url_hash</th>\n",
       "      <th>ad_id</th>\n",
       "      <th>advertiser_id</th>\n",
       "      <th>depth</th>\n",
       "      <th>position</th>\n",
       "      <th>query_id</th>\n",
       "      <th>keyword_id</th>\n",
       "      <th>title_id</th>\n",
       "      <th>description_id</th>\n",
       "      <th>user_id</th>\n",
       "    </tr>\n",
       "  </thead>\n",
       "  <tbody>\n",
       "    <tr>\n",
       "      <th>count</th>\n",
       "      <td>39926.000000</td>\n",
       "      <td>39926.000000</td>\n",
       "      <td>3.992600e+04</td>\n",
       "      <td>3.992600e+04</td>\n",
       "      <td>39926.000000</td>\n",
       "      <td>39926.000000</td>\n",
       "      <td>39926.000000</td>\n",
       "      <td>3.992600e+04</td>\n",
       "      <td>3.992600e+04</td>\n",
       "      <td>3.992600e+04</td>\n",
       "      <td>3.992600e+04</td>\n",
       "      <td>3.992600e+04</td>\n",
       "    </tr>\n",
       "    <tr>\n",
       "      <th>mean</th>\n",
       "      <td>0.168437</td>\n",
       "      <td>2.100686</td>\n",
       "      <td>9.640626e+18</td>\n",
       "      <td>1.601518e+07</td>\n",
       "      <td>22455.388569</td>\n",
       "      <td>1.959951</td>\n",
       "      <td>1.463808</td>\n",
       "      <td>3.142296e+06</td>\n",
       "      <td>3.520282e+04</td>\n",
       "      <td>1.733220e+05</td>\n",
       "      <td>1.112000e+05</td>\n",
       "      <td>3.669698e+06</td>\n",
       "    </tr>\n",
       "    <tr>\n",
       "      <th>std</th>\n",
       "      <td>0.374258</td>\n",
       "      <td>65.885522</td>\n",
       "      <td>4.986421e+18</td>\n",
       "      <td>7.222941e+06</td>\n",
       "      <td>11796.256172</td>\n",
       "      <td>0.715356</td>\n",
       "      <td>0.631489</td>\n",
       "      <td>5.841841e+06</td>\n",
       "      <td>1.009373e+05</td>\n",
       "      <td>4.657715e+05</td>\n",
       "      <td>3.284561e+05</td>\n",
       "      <td>5.492109e+06</td>\n",
       "    </tr>\n",
       "    <tr>\n",
       "      <th>min</th>\n",
       "      <td>0.000000</td>\n",
       "      <td>1.000000</td>\n",
       "      <td>4.824369e+14</td>\n",
       "      <td>1.000515e+06</td>\n",
       "      <td>82.000000</td>\n",
       "      <td>1.000000</td>\n",
       "      <td>1.000000</td>\n",
       "      <td>0.000000e+00</td>\n",
       "      <td>0.000000e+00</td>\n",
       "      <td>0.000000e+00</td>\n",
       "      <td>0.000000e+00</td>\n",
       "      <td>0.000000e+00</td>\n",
       "    </tr>\n",
       "    <tr>\n",
       "      <th>25%</th>\n",
       "      <td>0.000000</td>\n",
       "      <td>1.000000</td>\n",
       "      <td>5.468728e+18</td>\n",
       "      <td>9.027238e+06</td>\n",
       "      <td>13455.500000</td>\n",
       "      <td>1.000000</td>\n",
       "      <td>1.000000</td>\n",
       "      <td>2.365750e+03</td>\n",
       "      <td>3.700000e+02</td>\n",
       "      <td>6.710000e+02</td>\n",
       "      <td>3.560000e+02</td>\n",
       "      <td>1.479000e+03</td>\n",
       "    </tr>\n",
       "    <tr>\n",
       "      <th>50%</th>\n",
       "      <td>0.000000</td>\n",
       "      <td>1.000000</td>\n",
       "      <td>1.034947e+19</td>\n",
       "      <td>2.030327e+07</td>\n",
       "      <td>23808.000000</td>\n",
       "      <td>2.000000</td>\n",
       "      <td>1.000000</td>\n",
       "      <td>1.126520e+05</td>\n",
       "      <td>3.387500e+03</td>\n",
       "      <td>1.065400e+04</td>\n",
       "      <td>5.050000e+03</td>\n",
       "      <td>8.884700e+05</td>\n",
       "    </tr>\n",
       "    <tr>\n",
       "      <th>75%</th>\n",
       "      <td>0.000000</td>\n",
       "      <td>1.000000</td>\n",
       "      <td>1.434039e+19</td>\n",
       "      <td>2.116392e+07</td>\n",
       "      <td>32124.750000</td>\n",
       "      <td>2.000000</td>\n",
       "      <td>2.000000</td>\n",
       "      <td>3.148034e+06</td>\n",
       "      <td>2.103000e+04</td>\n",
       "      <td>1.003075e+05</td>\n",
       "      <td>5.294600e+04</td>\n",
       "      <td>5.128694e+06</td>\n",
       "    </tr>\n",
       "    <tr>\n",
       "      <th>max</th>\n",
       "      <td>1.000000</td>\n",
       "      <td>11820.000000</td>\n",
       "      <td>1.844094e+19</td>\n",
       "      <td>2.222734e+07</td>\n",
       "      <td>39074.000000</td>\n",
       "      <td>3.000000</td>\n",
       "      <td>3.000000</td>\n",
       "      <td>2.624010e+07</td>\n",
       "      <td>1.243163e+06</td>\n",
       "      <td>4.050208e+06</td>\n",
       "      <td>3.171504e+06</td>\n",
       "      <td>2.390734e+07</td>\n",
       "    </tr>\n",
       "  </tbody>\n",
       "</table>\n",
       "</div>"
      ],
      "text/plain": [
       "              click    impression      url_hash         ad_id  advertiser_id  \\\n",
       "count  39926.000000  39926.000000  3.992600e+04  3.992600e+04   39926.000000   \n",
       "mean       0.168437      2.100686  9.640626e+18  1.601518e+07   22455.388569   \n",
       "std        0.374258     65.885522  4.986421e+18  7.222941e+06   11796.256172   \n",
       "min        0.000000      1.000000  4.824369e+14  1.000515e+06      82.000000   \n",
       "25%        0.000000      1.000000  5.468728e+18  9.027238e+06   13455.500000   \n",
       "50%        0.000000      1.000000  1.034947e+19  2.030327e+07   23808.000000   \n",
       "75%        0.000000      1.000000  1.434039e+19  2.116392e+07   32124.750000   \n",
       "max        1.000000  11820.000000  1.844094e+19  2.222734e+07   39074.000000   \n",
       "\n",
       "              depth      position      query_id    keyword_id      title_id  \\\n",
       "count  39926.000000  39926.000000  3.992600e+04  3.992600e+04  3.992600e+04   \n",
       "mean       1.959951      1.463808  3.142296e+06  3.520282e+04  1.733220e+05   \n",
       "std        0.715356      0.631489  5.841841e+06  1.009373e+05  4.657715e+05   \n",
       "min        1.000000      1.000000  0.000000e+00  0.000000e+00  0.000000e+00   \n",
       "25%        1.000000      1.000000  2.365750e+03  3.700000e+02  6.710000e+02   \n",
       "50%        2.000000      1.000000  1.126520e+05  3.387500e+03  1.065400e+04   \n",
       "75%        2.000000      2.000000  3.148034e+06  2.103000e+04  1.003075e+05   \n",
       "max        3.000000      3.000000  2.624010e+07  1.243163e+06  4.050208e+06   \n",
       "\n",
       "       description_id       user_id  \n",
       "count    3.992600e+04  3.992600e+04  \n",
       "mean     1.112000e+05  3.669698e+06  \n",
       "std      3.284561e+05  5.492109e+06  \n",
       "min      0.000000e+00  0.000000e+00  \n",
       "25%      3.560000e+02  1.479000e+03  \n",
       "50%      5.050000e+03  8.884700e+05  \n",
       "75%      5.294600e+04  5.128694e+06  \n",
       "max      3.171504e+06  2.390734e+07  "
      ]
     },
     "execution_count": 10,
     "metadata": {},
     "output_type": "execute_result"
    }
   ],
   "source": [
    "#getting the describe \n",
    "df.describe()"
   ]
  },
  {
   "cell_type": "markdown",
   "id": "5fa2d19d",
   "metadata": {},
   "source": [
    "<h2>Data Visualization:"
   ]
  },
  {
   "cell_type": "code",
   "execution_count": 11,
   "id": "d606f5f1",
   "metadata": {},
   "outputs": [
    {
     "data": {
      "text/plain": [
       "[]"
      ]
     },
     "execution_count": 11,
     "metadata": {},
     "output_type": "execute_result"
    },
    {
     "data": {
      "image/png": "[encoded data removed]",
      "text/plain": [
       "<Figure size 1440x720 with 1 Axes>"
      ]
     },
     "metadata": {
      "needs_background": "light"
     },
     "output_type": "display_data"
    }
   ],
   "source": [
    "#Outliers\n",
    "df.boxplot(return_type='dict',figsize=(20, 10))\n",
    "plt.plot()"
   ]
  },
  {
   "cell_type": "code",
   "execution_count": 12,
   "id": "d49d5b81",
   "metadata": {},
   "outputs": [
    {
     "data": {
      "text/plain": [
       "array([[<AxesSubplot:title={'center':'click'}>,\n",
       "        <AxesSubplot:title={'center':'impression'}>,\n",
       "        <AxesSubplot:title={'center':'url_hash'}>],\n",
       "       [<AxesSubplot:title={'center':'ad_id'}>,\n",
       "        <AxesSubplot:title={'center':'advertiser_id'}>,\n",
       "        <AxesSubplot:title={'center':'depth'}>],\n",
       "       [<AxesSubplot:title={'center':'position'}>,\n",
       "        <AxesSubplot:title={'center':'query_id'}>,\n",
       "        <AxesSubplot:title={'center':'keyword_id'}>],\n",
       "       [<AxesSubplot:title={'center':'title_id'}>,\n",
       "        <AxesSubplot:title={'center':'description_id'}>,\n",
       "        <AxesSubplot:title={'center':'user_id'}>]], dtype=object)"
      ]
     },
     "execution_count": 12,
     "metadata": {},
     "output_type": "execute_result"
    },
    {
     "data": {
      "image/png": "[encoded data removed]",
      "text/plain": [
       "<Figure size 1440x720 with 12 Axes>"
      ]
     },
     "metadata": {
      "needs_background": "light"
     },
     "output_type": "display_data"
    }
   ],
   "source": [
    "# Visualization data distrbution \n",
    "df.hist(figsize=(20,10), grid=False, bins = 30)"
   ]
  },
  {
   "cell_type": "markdown",
   "id": "47f2569e",
   "metadata": {},
   "source": [
    "The data distribution is very skewed  "
   ]
  },
  {
   "cell_type": "code",
   "execution_count": 13,
   "id": "3a3e4247",
   "metadata": {},
   "outputs": [
    {
     "data": {
      "text/plain": [
       "<AxesSubplot:>"
      ]
     },
     "execution_count": 13,
     "metadata": {},
     "output_type": "execute_result"
    },
    {
     "data": {
      "image/png": "[encoded data removed]",
      "text/plain": [
       "<Figure size 792x792 with 2 Axes>"
      ]
     },
     "metadata": {
      "needs_background": "light"
     },
     "output_type": "display_data"
    }
   ],
   "source": [
    "#Data Correlation, the data with high correlation are the depth with position,description_id and keyword_id, title_id and description_id \n",
    "corrmat = df.corr()\n",
    "fig, ax = plt.subplots()\n",
    "fig.set_size_inches(11,11)\n",
    "sns.heatmap(corrmat,annot=True)"
   ]
  },
  {
   "cell_type": "code",
   "execution_count": 14,
   "id": "547c8a3f",
   "metadata": {},
   "outputs": [
    {
     "data": {
      "text/plain": [
       "0    33201\n",
       "1     6725\n",
       "Name: click, dtype: int64"
      ]
     },
     "execution_count": 14,
     "metadata": {},
     "output_type": "execute_result"
    }
   ],
   "source": [
    "#checking data imbalance \n",
    "df.click.value_counts()"
   ]
  },
  {
   "cell_type": "code",
   "execution_count": 15,
   "id": "ab07225c",
   "metadata": {},
   "outputs": [
    {
     "data": {
      "image/png": "[encoded data removed]",
      "text/plain": [
       "<Figure size 432x288 with 1 Axes>"
      ]
     },
     "metadata": {
      "needs_background": "light"
     },
     "output_type": "display_data"
    }
   ],
   "source": [
    "#visualizing the class distribution\n",
    "df['click'].value_counts().plot(kind = 'bar', xlabel = 'Classes', ylabel = 'Count', title = 'Target data distrbution')\n",
    "plt.show()"
   ]
  },
  {
   "cell_type": "markdown",
   "id": "16a3a254",
   "metadata": {},
   "source": [
    "The data is very badly distributed imbalanced data as the 0 class has 33201 instances and the class 1 has 6725 instances"
   ]
  },
  {
   "cell_type": "markdown",
   "id": "29ec4069",
   "metadata": {},
   "source": [
    "<h2>Outlier handling using IsolationForest:"
   ]
  },
  {
   "cell_type": "code",
   "execution_count": 16,
   "id": "876894dc",
   "metadata": {},
   "outputs": [],
   "source": [
    "#outlier detection \n",
    "outlierDetector =  IsolationForest(n_estimators=100,random_state = 42)\n",
    "result = outlierDetector.fit_predict(df)"
   ]
  },
  {
   "cell_type": "code",
   "execution_count": 17,
   "id": "729ecf5f",
   "metadata": {},
   "outputs": [
    {
     "name": "stdout",
     "output_type": "stream",
     "text": [
      "Number of detected outliers is 7668\n"
     ]
    }
   ],
   "source": [
    "Outliers = df[result==-1]\n",
    "print(\"Number of detected outliers is \" +str(len(Outliers)))"
   ]
  },
  {
   "cell_type": "code",
   "execution_count": 18,
   "id": "e573fe71",
   "metadata": {},
   "outputs": [
    {
     "data": {
      "text/html": [
       "<div>\n",
       "<style scoped>\n",
       "    .dataframe tbody tr th:only-of-type {\n",
       "        vertical-align: middle;\n",
       "    }\n",
       "\n",
       "    .dataframe tbody tr th {\n",
       "        vertical-align: top;\n",
       "    }\n",
       "\n",
       "    .dataframe thead th {\n",
       "        text-align: right;\n",
       "    }\n",
       "</style>\n",
       "<table border=\"1\" class=\"dataframe\">\n",
       "  <thead>\n",
       "    <tr style=\"text-align: right;\">\n",
       "      <th></th>\n",
       "      <th>click</th>\n",
       "      <th>impression</th>\n",
       "      <th>url_hash</th>\n",
       "      <th>ad_id</th>\n",
       "      <th>advertiser_id</th>\n",
       "      <th>depth</th>\n",
       "      <th>position</th>\n",
       "      <th>query_id</th>\n",
       "      <th>keyword_id</th>\n",
       "      <th>title_id</th>\n",
       "      <th>description_id</th>\n",
       "      <th>user_id</th>\n",
       "    </tr>\n",
       "  </thead>\n",
       "  <tbody>\n",
       "    <tr>\n",
       "      <th>0</th>\n",
       "      <td>0</td>\n",
       "      <td>1</td>\n",
       "      <td>1.071003e+19</td>\n",
       "      <td>8343295</td>\n",
       "      <td>11700</td>\n",
       "      <td>3</td>\n",
       "      <td>3</td>\n",
       "      <td>7702266</td>\n",
       "      <td>21264</td>\n",
       "      <td>27892</td>\n",
       "      <td>1559</td>\n",
       "      <td>0</td>\n",
       "    </tr>\n",
       "    <tr>\n",
       "      <th>10</th>\n",
       "      <td>0</td>\n",
       "      <td>1</td>\n",
       "      <td>1.154854e+19</td>\n",
       "      <td>21188630</td>\n",
       "      <td>17432</td>\n",
       "      <td>3</td>\n",
       "      <td>3</td>\n",
       "      <td>54485</td>\n",
       "      <td>20526</td>\n",
       "      <td>680977</td>\n",
       "      <td>621442</td>\n",
       "      <td>329865</td>\n",
       "    </tr>\n",
       "    <tr>\n",
       "      <th>11</th>\n",
       "      <td>1</td>\n",
       "      <td>3</td>\n",
       "      <td>1.205788e+19</td>\n",
       "      <td>20170434</td>\n",
       "      <td>27961</td>\n",
       "      <td>1</td>\n",
       "      <td>1</td>\n",
       "      <td>16554377</td>\n",
       "      <td>63355</td>\n",
       "      <td>106189</td>\n",
       "      <td>100521</td>\n",
       "      <td>1378623</td>\n",
       "    </tr>\n",
       "    <tr>\n",
       "      <th>17</th>\n",
       "      <td>0</td>\n",
       "      <td>1</td>\n",
       "      <td>1.493529e+19</td>\n",
       "      <td>21967731</td>\n",
       "      <td>37465</td>\n",
       "      <td>3</td>\n",
       "      <td>3</td>\n",
       "      <td>743855</td>\n",
       "      <td>64605</td>\n",
       "      <td>774277</td>\n",
       "      <td>125</td>\n",
       "      <td>0</td>\n",
       "    </tr>\n",
       "    <tr>\n",
       "      <th>19</th>\n",
       "      <td>0</td>\n",
       "      <td>2</td>\n",
       "      <td>6.715049e+18</td>\n",
       "      <td>3065545</td>\n",
       "      <td>23783</td>\n",
       "      <td>1</td>\n",
       "      <td>1</td>\n",
       "      <td>1060</td>\n",
       "      <td>60</td>\n",
       "      <td>54</td>\n",
       "      <td>78</td>\n",
       "      <td>22485516</td>\n",
       "    </tr>\n",
       "    <tr>\n",
       "      <th>...</th>\n",
       "      <td>...</td>\n",
       "      <td>...</td>\n",
       "      <td>...</td>\n",
       "      <td>...</td>\n",
       "      <td>...</td>\n",
       "      <td>...</td>\n",
       "      <td>...</td>\n",
       "      <td>...</td>\n",
       "      <td>...</td>\n",
       "      <td>...</td>\n",
       "      <td>...</td>\n",
       "      <td>...</td>\n",
       "    </tr>\n",
       "    <tr>\n",
       "      <th>39932</th>\n",
       "      <td>0</td>\n",
       "      <td>2</td>\n",
       "      <td>9.929190e+18</td>\n",
       "      <td>21400891</td>\n",
       "      <td>1870</td>\n",
       "      <td>2</td>\n",
       "      <td>1</td>\n",
       "      <td>3339839</td>\n",
       "      <td>177320</td>\n",
       "      <td>637607</td>\n",
       "      <td>533292</td>\n",
       "      <td>1123376</td>\n",
       "    </tr>\n",
       "    <tr>\n",
       "      <th>39935</th>\n",
       "      <td>1</td>\n",
       "      <td>1</td>\n",
       "      <td>7.903915e+18</td>\n",
       "      <td>21162257</td>\n",
       "      <td>1325</td>\n",
       "      <td>1</td>\n",
       "      <td>1</td>\n",
       "      <td>119</td>\n",
       "      <td>34</td>\n",
       "      <td>684</td>\n",
       "      <td>36</td>\n",
       "      <td>21225498</td>\n",
       "    </tr>\n",
       "    <tr>\n",
       "      <th>39939</th>\n",
       "      <td>0</td>\n",
       "      <td>1</td>\n",
       "      <td>1.544609e+19</td>\n",
       "      <td>21098737</td>\n",
       "      <td>7073</td>\n",
       "      <td>1</td>\n",
       "      <td>1</td>\n",
       "      <td>105129</td>\n",
       "      <td>10273</td>\n",
       "      <td>76575</td>\n",
       "      <td>193603</td>\n",
       "      <td>22657879</td>\n",
       "    </tr>\n",
       "    <tr>\n",
       "      <th>39941</th>\n",
       "      <td>0</td>\n",
       "      <td>1</td>\n",
       "      <td>1.146304e+19</td>\n",
       "      <td>21250008</td>\n",
       "      <td>35364</td>\n",
       "      <td>2</td>\n",
       "      <td>2</td>\n",
       "      <td>879683</td>\n",
       "      <td>647353</td>\n",
       "      <td>3956650</td>\n",
       "      <td>2788319</td>\n",
       "      <td>8276</td>\n",
       "    </tr>\n",
       "    <tr>\n",
       "      <th>39946</th>\n",
       "      <td>0</td>\n",
       "      <td>1</td>\n",
       "      <td>9.750423e+18</td>\n",
       "      <td>21222438</td>\n",
       "      <td>35880</td>\n",
       "      <td>3</td>\n",
       "      <td>3</td>\n",
       "      <td>7130804</td>\n",
       "      <td>13078</td>\n",
       "      <td>943122</td>\n",
       "      <td>1436</td>\n",
       "      <td>0</td>\n",
       "    </tr>\n",
       "  </tbody>\n",
       "</table>\n",
       "<p>7668 rows × 12 columns</p>\n",
       "</div>"
      ],
      "text/plain": [
       "       click  impression      url_hash     ad_id  advertiser_id  depth  \\\n",
       "0          0           1  1.071003e+19   8343295          11700      3   \n",
       "10         0           1  1.154854e+19  21188630          17432      3   \n",
       "11         1           3  1.205788e+19  20170434          27961      1   \n",
       "17         0           1  1.493529e+19  21967731          37465      3   \n",
       "19         0           2  6.715049e+18   3065545          23783      1   \n",
       "...      ...         ...           ...       ...            ...    ...   \n",
       "39932      0           2  9.929190e+18  21400891           1870      2   \n",
       "39935      1           1  7.903915e+18  21162257           1325      1   \n",
       "39939      0           1  1.544609e+19  21098737           7073      1   \n",
       "39941      0           1  1.146304e+19  21250008          35364      2   \n",
       "39946      0           1  9.750423e+18  21222438          35880      3   \n",
       "\n",
       "       position  query_id  keyword_id  title_id  description_id   user_id  \n",
       "0             3   7702266       21264     27892            1559         0  \n",
       "10            3     54485       20526    680977          621442    329865  \n",
       "11            1  16554377       63355    106189          100521   1378623  \n",
       "17            3    743855       64605    774277             125         0  \n",
       "19            1      1060          60        54              78  22485516  \n",
       "...         ...       ...         ...       ...             ...       ...  \n",
       "39932         1   3339839      177320    637607          533292   1123376  \n",
       "39935         1       119          34       684              36  21225498  \n",
       "39939         1    105129       10273     76575          193603  22657879  \n",
       "39941         2    879683      647353   3956650         2788319      8276  \n",
       "39946         3   7130804       13078    943122            1436         0  \n",
       "\n",
       "[7668 rows x 12 columns]"
      ]
     },
     "execution_count": 18,
     "metadata": {},
     "output_type": "execute_result"
    }
   ],
   "source": [
    "Outliers"
   ]
  },
  {
   "cell_type": "code",
   "execution_count": 19,
   "id": "f013a134",
   "metadata": {},
   "outputs": [],
   "source": [
    "#dropping the outliers\n",
    "df.drop(Outliers.index, axis = 0, inplace = True)"
   ]
  },
  {
   "cell_type": "code",
   "execution_count": 20,
   "id": "0b634e59",
   "metadata": {},
   "outputs": [
    {
     "data": {
      "text/plain": [
       "(32258, 12)"
      ]
     },
     "execution_count": 20,
     "metadata": {},
     "output_type": "execute_result"
    }
   ],
   "source": [
    "df.shape"
   ]
  },
  {
   "cell_type": "markdown",
   "id": "a3533468",
   "metadata": {},
   "source": [
    "<h2>Data splitting "
   ]
  },
  {
   "cell_type": "code",
   "execution_count": 21,
   "id": "7afda0d0",
   "metadata": {},
   "outputs": [],
   "source": [
    "#splitting the data to target and features \n",
    "Y = df['click']\n",
    "X = df.drop('click', axis =1 )"
   ]
  },
  {
   "cell_type": "code",
   "execution_count": 22,
   "id": "b56f2b01",
   "metadata": {},
   "outputs": [],
   "source": [
    "#splitting the data to train and test \n",
    "x_train, x_test, y_train, y_test = train_test_split(X, Y, test_size=0.3, random_state=42)"
   ]
  },
  {
   "cell_type": "code",
   "execution_count": 23,
   "id": "91004b77",
   "metadata": {},
   "outputs": [
    {
     "data": {
      "text/html": [
       "<div>\n",
       "<style scoped>\n",
       "    .dataframe tbody tr th:only-of-type {\n",
       "        vertical-align: middle;\n",
       "    }\n",
       "\n",
       "    .dataframe tbody tr th {\n",
       "        vertical-align: top;\n",
       "    }\n",
       "\n",
       "    .dataframe thead th {\n",
       "        text-align: right;\n",
       "    }\n",
       "</style>\n",
       "<table border=\"1\" class=\"dataframe\">\n",
       "  <thead>\n",
       "    <tr style=\"text-align: right;\">\n",
       "      <th></th>\n",
       "      <th>impression</th>\n",
       "      <th>url_hash</th>\n",
       "      <th>ad_id</th>\n",
       "      <th>advertiser_id</th>\n",
       "      <th>depth</th>\n",
       "      <th>position</th>\n",
       "      <th>query_id</th>\n",
       "      <th>keyword_id</th>\n",
       "      <th>title_id</th>\n",
       "      <th>description_id</th>\n",
       "      <th>user_id</th>\n",
       "    </tr>\n",
       "  </thead>\n",
       "  <tbody>\n",
       "    <tr>\n",
       "      <th>1</th>\n",
       "      <td>1</td>\n",
       "      <td>1.736385e+19</td>\n",
       "      <td>20017077</td>\n",
       "      <td>23798</td>\n",
       "      <td>1</td>\n",
       "      <td>1</td>\n",
       "      <td>93079</td>\n",
       "      <td>35498</td>\n",
       "      <td>4</td>\n",
       "      <td>36476</td>\n",
       "      <td>562934</td>\n",
       "    </tr>\n",
       "    <tr>\n",
       "      <th>2</th>\n",
       "      <td>1</td>\n",
       "      <td>8.915473e+18</td>\n",
       "      <td>21348354</td>\n",
       "      <td>36654</td>\n",
       "      <td>1</td>\n",
       "      <td>1</td>\n",
       "      <td>10981</td>\n",
       "      <td>19975</td>\n",
       "      <td>36105</td>\n",
       "      <td>33292</td>\n",
       "      <td>11621116</td>\n",
       "    </tr>\n",
       "    <tr>\n",
       "      <th>3</th>\n",
       "      <td>1</td>\n",
       "      <td>4.426693e+18</td>\n",
       "      <td>20366086</td>\n",
       "      <td>33280</td>\n",
       "      <td>3</td>\n",
       "      <td>3</td>\n",
       "      <td>0</td>\n",
       "      <td>5942</td>\n",
       "      <td>4057</td>\n",
       "      <td>4390</td>\n",
       "      <td>8778348</td>\n",
       "    </tr>\n",
       "    <tr>\n",
       "      <th>4</th>\n",
       "      <td>1</td>\n",
       "      <td>1.157260e+19</td>\n",
       "      <td>6803526</td>\n",
       "      <td>10790</td>\n",
       "      <td>2</td>\n",
       "      <td>1</td>\n",
       "      <td>9881978</td>\n",
       "      <td>60593</td>\n",
       "      <td>25242</td>\n",
       "      <td>1679</td>\n",
       "      <td>12118311</td>\n",
       "    </tr>\n",
       "    <tr>\n",
       "      <th>5</th>\n",
       "      <td>1</td>\n",
       "      <td>2.827577e+17</td>\n",
       "      <td>21186478</td>\n",
       "      <td>35793</td>\n",
       "      <td>2</td>\n",
       "      <td>1</td>\n",
       "      <td>163315</td>\n",
       "      <td>4871</td>\n",
       "      <td>3257</td>\n",
       "      <td>1153</td>\n",
       "      <td>2886008</td>\n",
       "    </tr>\n",
       "    <tr>\n",
       "      <th>...</th>\n",
       "      <td>...</td>\n",
       "      <td>...</td>\n",
       "      <td>...</td>\n",
       "      <td>...</td>\n",
       "      <td>...</td>\n",
       "      <td>...</td>\n",
       "      <td>...</td>\n",
       "      <td>...</td>\n",
       "      <td>...</td>\n",
       "      <td>...</td>\n",
       "      <td>...</td>\n",
       "    </tr>\n",
       "    <tr>\n",
       "      <th>39942</th>\n",
       "      <td>1</td>\n",
       "      <td>1.768833e+19</td>\n",
       "      <td>20382992</td>\n",
       "      <td>17403</td>\n",
       "      <td>2</td>\n",
       "      <td>2</td>\n",
       "      <td>11881210</td>\n",
       "      <td>92</td>\n",
       "      <td>1314</td>\n",
       "      <td>1673</td>\n",
       "      <td>72733</td>\n",
       "    </tr>\n",
       "    <tr>\n",
       "      <th>39943</th>\n",
       "      <td>1</td>\n",
       "      <td>3.593550e+18</td>\n",
       "      <td>21898643</td>\n",
       "      <td>37867</td>\n",
       "      <td>2</td>\n",
       "      <td>1</td>\n",
       "      <td>12825939</td>\n",
       "      <td>1091</td>\n",
       "      <td>1657</td>\n",
       "      <td>1914</td>\n",
       "      <td>0</td>\n",
       "    </tr>\n",
       "    <tr>\n",
       "      <th>39944</th>\n",
       "      <td>1</td>\n",
       "      <td>1.760828e+19</td>\n",
       "      <td>20575578</td>\n",
       "      <td>8873</td>\n",
       "      <td>2</td>\n",
       "      <td>1</td>\n",
       "      <td>11699</td>\n",
       "      <td>8338</td>\n",
       "      <td>7866</td>\n",
       "      <td>9210</td>\n",
       "      <td>19487</td>\n",
       "    </tr>\n",
       "    <tr>\n",
       "      <th>39945</th>\n",
       "      <td>5</td>\n",
       "      <td>9.613260e+18</td>\n",
       "      <td>21183848</td>\n",
       "      <td>18716</td>\n",
       "      <td>2</td>\n",
       "      <td>1</td>\n",
       "      <td>243826</td>\n",
       "      <td>9594</td>\n",
       "      <td>8881</td>\n",
       "      <td>13277</td>\n",
       "      <td>2305</td>\n",
       "    </tr>\n",
       "    <tr>\n",
       "      <th>39947</th>\n",
       "      <td>1</td>\n",
       "      <td>1.205788e+19</td>\n",
       "      <td>20180245</td>\n",
       "      <td>27961</td>\n",
       "      <td>1</td>\n",
       "      <td>1</td>\n",
       "      <td>21659</td>\n",
       "      <td>39732</td>\n",
       "      <td>88617</td>\n",
       "      <td>88724</td>\n",
       "      <td>5602668</td>\n",
       "    </tr>\n",
       "  </tbody>\n",
       "</table>\n",
       "<p>32258 rows × 11 columns</p>\n",
       "</div>"
      ],
      "text/plain": [
       "       impression      url_hash     ad_id  advertiser_id  depth  position  \\\n",
       "1               1  1.736385e+19  20017077          23798      1         1   \n",
       "2               1  8.915473e+18  21348354          36654      1         1   \n",
       "3               1  4.426693e+18  20366086          33280      3         3   \n",
       "4               1  1.157260e+19   6803526          10790      2         1   \n",
       "5               1  2.827577e+17  21186478          35793      2         1   \n",
       "...           ...           ...       ...            ...    ...       ...   \n",
       "39942           1  1.768833e+19  20382992          17403      2         2   \n",
       "39943           1  3.593550e+18  21898643          37867      2         1   \n",
       "39944           1  1.760828e+19  20575578           8873      2         1   \n",
       "39945           5  9.613260e+18  21183848          18716      2         1   \n",
       "39947           1  1.205788e+19  20180245          27961      1         1   \n",
       "\n",
       "       query_id  keyword_id  title_id  description_id   user_id  \n",
       "1         93079       35498         4           36476    562934  \n",
       "2         10981       19975     36105           33292  11621116  \n",
       "3             0        5942      4057            4390   8778348  \n",
       "4       9881978       60593     25242            1679  12118311  \n",
       "5        163315        4871      3257            1153   2886008  \n",
       "...         ...         ...       ...             ...       ...  \n",
       "39942  11881210          92      1314            1673     72733  \n",
       "39943  12825939        1091      1657            1914         0  \n",
       "39944     11699        8338      7866            9210     19487  \n",
       "39945    243826        9594      8881           13277      2305  \n",
       "39947     21659       39732     88617           88724   5602668  \n",
       "\n",
       "[32258 rows x 11 columns]"
      ]
     },
     "execution_count": 23,
     "metadata": {},
     "output_type": "execute_result"
    }
   ],
   "source": [
    "X"
   ]
  },
  {
   "cell_type": "code",
   "execution_count": 24,
   "id": "11401c8a",
   "metadata": {},
   "outputs": [
    {
     "data": {
      "text/plain": [
       "1        1\n",
       "2        0\n",
       "3        0\n",
       "4        0\n",
       "5        1\n",
       "        ..\n",
       "39942    0\n",
       "39943    0\n",
       "39944    0\n",
       "39945    0\n",
       "39947    0\n",
       "Name: click, Length: 32258, dtype: int64"
      ]
     },
     "execution_count": 24,
     "metadata": {},
     "output_type": "execute_result"
    }
   ],
   "source": [
    "Y"
   ]
  },
  {
   "cell_type": "markdown",
   "id": "de658bf9",
   "metadata": {},
   "source": [
    "<h2>Data Normalization"
   ]
  },
  {
   "cell_type": "code",
   "execution_count": 25,
   "id": "5ef5d4c6",
   "metadata": {},
   "outputs": [],
   "source": [
    "#Normalizing the data \n",
    "St = StandardScaler()\n",
    "x_train = St.fit_transform(x_train)\n",
    "x_test = St.transform(x_test)"
   ]
  },
  {
   "cell_type": "code",
   "execution_count": 26,
   "id": "662ce7bc",
   "metadata": {},
   "outputs": [],
   "source": [
    "#function for the learning curve plotting \n",
    "def LearningCurve(model,X, Y):\n",
    "    train_sizes_model, train_scores_model, valid_scores_model, *_ =learning_curve(model, X, Y,cv=5,\n",
    "                    scoring='accuracy',n_jobs=-1)\n",
    "    fig=plt.figure()\n",
    "    ax=fig.add_axes([0,0,1,1])\n",
    "    ax.scatter(x=train_sizes_model,y= train_scores_model.mean(axis=1), color='b')\n",
    "    ax.scatter(x=train_sizes_model,y=valid_scores_model.mean(axis=1), color='r')\n",
    "    ax.plot(train_sizes_model,train_scores_model.mean(axis=1), color='b')\n",
    "    ax.plot(train_sizes_model,valid_scores_model.mean(axis=1), color='r')\n",
    "    ax.set_xlabel('Data Range')\n",
    "    ax.set_ylabel('Accuracy')\n",
    "    ax.set_title('Learning Curve')\n",
    "    plt.show()"
   ]
  },
  {
   "cell_type": "markdown",
   "id": "0a3d0feb",
   "metadata": {},
   "source": [
    "<h2>Handling imbalanced</h2>"
   ]
  },
  {
   "cell_type": "markdown",
   "id": "2fc10302",
   "metadata": {},
   "source": [
    "<h3>Random oversampling"
   ]
  },
  {
   "cell_type": "code",
   "execution_count": 27,
   "id": "97609d96",
   "metadata": {},
   "outputs": [],
   "source": [
    "#applying the RandomOverSampler on the X and Y and fitting it \n",
    "overSampler = RandomOverSampler(random_state=42)\n",
    "overX1,overY1=overSampler.fit_resample(X, Y)"
   ]
  },
  {
   "cell_type": "code",
   "execution_count": 28,
   "id": "fd6306d5",
   "metadata": {},
   "outputs": [
    {
     "data": {
      "text/plain": [
       "1    28497\n",
       "0    28497\n",
       "Name: click, dtype: int64"
      ]
     },
     "execution_count": 28,
     "metadata": {},
     "output_type": "execute_result"
    }
   ],
   "source": [
    "#checking the value_clount of the target column after applying the Random OverSampling\n",
    "pd.DataFrame(overY1,columns=['click'])['click'].value_counts()"
   ]
  },
  {
   "cell_type": "code",
   "execution_count": 29,
   "id": "246699d4",
   "metadata": {},
   "outputs": [
    {
     "data": {
      "image/png": "[encoded data removed]",
      "text/plain": [
       "<Figure size 576x432 with 1 Axes>"
      ]
     },
     "metadata": {
      "needs_background": "light"
     },
     "output_type": "display_data"
    }
   ],
   "source": [
    "#bar plot for the classes after applying Random oversampling for handling the data imbalance \n",
    "ax=pd.DataFrame(overY1,columns=['click'])['click'].value_counts().plot(kind='bar',color=['red','blue'],\n",
    "                                          title='classes',figsize=(8, 6))\n",
    "\n",
    "plt.xticks(range(2),['0', '1'])\n",
    "ax.set_xlabel(\"clicks\",fontsize=16)\n",
    "ax.set_ylabel(\"Count\",fontsize=14)\n",
    "plt.show()"
   ]
  },
  {
   "cell_type": "code",
   "execution_count": 30,
   "id": "77110a04",
   "metadata": {},
   "outputs": [],
   "source": [
    "#splitting the data again after the Random OverSampling to apply the RandomForest Classifier and checking the accuracy\n",
    "x_train2, x_test2, y_train2, y_test2 = train_test_split(overX1, overY1, test_size=0.3,random_state=42)\n",
    "x_train2 = St.fit_transform(x_train2)\n",
    "x_test2 = St.fit_transform(x_test2)\n",
    "rf = RandomForestClassifier(n_estimators = 100, random_state=42)\n",
    "rf.fit(x_train2, y_train2)\n",
    "y_pred=rf.predict(x_test2)"
   ]
  },
  {
   "cell_type": "code",
   "execution_count": 31,
   "id": "f3f7e5b8",
   "metadata": {},
   "outputs": [
    {
     "name": "stdout",
     "output_type": "stream",
     "text": [
      "ACC of model: 0.7551 After randm Oversampling\n"
     ]
    }
   ],
   "source": [
    "#printing the accuracy of the RandomForest Classifier\n",
    "print(\"ACC of model: %.4f After randm Oversampling\" %accuracy_score(y_pred,y_test2))"
   ]
  },
  {
   "cell_type": "code",
   "execution_count": 32,
   "id": "9a88a3ca",
   "metadata": {},
   "outputs": [
    {
     "name": "stderr",
     "output_type": "stream",
     "text": [
      "D:\\Anaconda\\lib\\site-packages\\sklearn\\utils\\deprecation.py:87: FutureWarning: Function plot_confusion_matrix is deprecated; Function `plot_confusion_matrix` is deprecated in 1.0 and will be removed in 1.2. Use one of the class methods: ConfusionMatrixDisplay.from_predictions or ConfusionMatrixDisplay.from_estimator.\n",
      "  warnings.warn(msg, category=FutureWarning)\n"
     ]
    },
    {
     "data": {
      "text/plain": [
       "<sklearn.metrics._plot.confusion_matrix.ConfusionMatrixDisplay at 0x2125a53cfd0>"
      ]
     },
     "execution_count": 32,
     "metadata": {},
     "output_type": "execute_result"
    },
    {
     "data": {
      "image/png": "[encoded data removed]",
      "text/plain": [
       "<Figure size 432x288 with 2 Axes>"
      ]
     },
     "metadata": {
      "needs_background": "light"
     },
     "output_type": "display_data"
    }
   ],
   "source": [
    "#plotting the confusion matrix\n",
    "plot_confusion_matrix(rf,x_test,y_test)"
   ]
  },
  {
   "cell_type": "code",
   "execution_count": 33,
   "id": "60551cd8",
   "metadata": {},
   "outputs": [
    {
     "data": {
      "image/png": "[encoded data removed]",
      "text/plain": [
       "<Figure size 432x288 with 1 Axes>"
      ]
     },
     "metadata": {
      "needs_background": "light"
     },
     "output_type": "display_data"
    }
   ],
   "source": [
    "#plotting the ROC curve\n",
    "auc = roc_auc_score(y_pred, y_test2)\n",
    "fpr, tpr, thresholds = roc_curve(y_test2, y_pred)\n",
    "\n",
    "plt.plot(fpr, tpr, 'g-',label ='LR AUC:%.3f'%auc)\n",
    "plt.legend(loc=4)\n",
    "\n",
    "plt.show()"
   ]
  },
  {
   "cell_type": "code",
   "execution_count": 34,
   "id": "d5b5a4b3",
   "metadata": {},
   "outputs": [
    {
     "data": {
      "image/png": "[encoded data removed]",
      "text/plain": [
       "<Figure size 432x288 with 1 Axes>"
      ]
     },
     "metadata": {
      "needs_background": "light"
     },
     "output_type": "display_data"
    }
   ],
   "source": [
    "#learning curve of the RF\n",
    "LearningCurve(rf, overX1,overY1)"
   ]
  },
  {
   "cell_type": "code",
   "execution_count": 66,
   "id": "8d0efadf",
   "metadata": {},
   "outputs": [],
   "source": [
    "mse, bias, var = bias_variance_decomp\\\n",
    "(rf, x_train2, y_train2.values, x_test2, y_test2.values, loss='mse', num_rounds=20, random_seed=42)"
   ]
  },
  {
   "cell_type": "code",
   "execution_count": 67,
   "id": "9c95e0ab",
   "metadata": {},
   "outputs": [
    {
     "name": "stdout",
     "output_type": "stream",
     "text": [
      "MSE: 0.240\n",
      "Bias: 0.209\n",
      "Variance: 0.031\n"
     ]
    }
   ],
   "source": [
    "print('MSE: %.3f' % mse)\n",
    "print('Bias: %.3f' % bias)\n",
    "print('Variance: %.3f' % var)"
   ]
  },
  {
   "cell_type": "markdown",
   "id": "e6bb739c",
   "metadata": {},
   "source": [
    "<h3>SMOTE"
   ]
  },
  {
   "cell_type": "code",
   "execution_count": 35,
   "id": "7b7e585e",
   "metadata": {},
   "outputs": [],
   "source": [
    "#copping the data to new variable \n",
    "df2 = df.copy()"
   ]
  },
  {
   "cell_type": "code",
   "execution_count": 36,
   "id": "c895c939",
   "metadata": {},
   "outputs": [],
   "source": [
    "#splitting the data into target and features\n",
    "Y1 = df2['click']\n",
    "X1 = df2.drop('click', axis =1 )"
   ]
  },
  {
   "cell_type": "code",
   "execution_count": 37,
   "id": "de01725c",
   "metadata": {},
   "outputs": [],
   "source": [
    "#applying the SMOTE on the X and Y and fitting it \n",
    "oversample = SMOTE(random_state=42)\n",
    "overX,overY=oversample.fit_resample(X1, Y1)"
   ]
  },
  {
   "cell_type": "code",
   "execution_count": 38,
   "id": "2c7d444f",
   "metadata": {},
   "outputs": [
    {
     "data": {
      "image/png": "[encoded data removed]",
      "text/plain": [
       "<Figure size 576x432 with 1 Axes>"
      ]
     },
     "metadata": {
      "needs_background": "light"
     },
     "output_type": "display_data"
    }
   ],
   "source": [
    "#bar plot for the classes after applying SMOTE for handling the data imbalance \n",
    "ax=pd.DataFrame(overY,columns=['click'])['click'].value_counts().plot(kind='bar',color=['red','blue'],\n",
    "                                          title='classes',figsize=(8, 6))\n",
    "\n",
    "plt.xticks(range(2),['0', '1'])\n",
    "ax.set_xlabel(\"clicks\",fontsize=16)\n",
    "ax.set_ylabel(\"Count\",fontsize=14)\n",
    "plt.show()"
   ]
  },
  {
   "cell_type": "code",
   "execution_count": 39,
   "id": "b48abeeb",
   "metadata": {},
   "outputs": [],
   "source": [
    "#splitting the data again after the SMOTE to apply the RandomForest Classifier and checking the accuracy\n",
    "x_train1, x_test1, y_train1, y_test1 = train_test_split(overX, overY, test_size=0.3,random_state=42)\n",
    "x_train1 = St.fit_transform(x_train1)\n",
    "x_test1 = St.fit_transform(x_test1)\n",
    "rf1 = RandomForestClassifier(n_estimators = 100, random_state=42)\n",
    "rf1.fit(x_train1, y_train1)\n",
    "y_pred1=rf.predict(x_test1)"
   ]
  },
  {
   "cell_type": "code",
   "execution_count": 40,
   "id": "8bb8e157",
   "metadata": {},
   "outputs": [
    {
     "name": "stdout",
     "output_type": "stream",
     "text": [
      "ACC of model: 0.5548 After SMOTE\n"
     ]
    }
   ],
   "source": [
    "#printing the accuracy of the RandomForest Classifier\n",
    "print(\"ACC of model: %.4f After SMOTE\" %accuracy_score(y_pred1,y_test1))"
   ]
  },
  {
   "cell_type": "code",
   "execution_count": 41,
   "id": "027456a7",
   "metadata": {},
   "outputs": [
    {
     "name": "stderr",
     "output_type": "stream",
     "text": [
      "D:\\Anaconda\\lib\\site-packages\\sklearn\\utils\\deprecation.py:87: FutureWarning: Function plot_confusion_matrix is deprecated; Function `plot_confusion_matrix` is deprecated in 1.0 and will be removed in 1.2. Use one of the class methods: ConfusionMatrixDisplay.from_predictions or ConfusionMatrixDisplay.from_estimator.\n",
      "  warnings.warn(msg, category=FutureWarning)\n"
     ]
    },
    {
     "data": {
      "text/plain": [
       "<sklearn.metrics._plot.confusion_matrix.ConfusionMatrixDisplay at 0x2125a893790>"
      ]
     },
     "execution_count": 41,
     "metadata": {},
     "output_type": "execute_result"
    },
    {
     "data": {
      "image/png": "[encoded data removed]",
      "text/plain": [
       "<Figure size 432x288 with 2 Axes>"
      ]
     },
     "metadata": {
      "needs_background": "light"
     },
     "output_type": "display_data"
    }
   ],
   "source": [
    "#plotting the confusion matrix\n",
    "plot_confusion_matrix(rf1,x_test1,y_test1)"
   ]
  },
  {
   "cell_type": "code",
   "execution_count": 42,
   "id": "dde8118c",
   "metadata": {},
   "outputs": [
    {
     "data": {
      "image/png": "[encoded data removed]",
      "text/plain": [
       "<Figure size 432x288 with 1 Axes>"
      ]
     },
     "metadata": {
      "needs_background": "light"
     },
     "output_type": "display_data"
    }
   ],
   "source": [
    "#plotting the ROC curve\n",
    "auc = roc_auc_score(y_pred1, y_test1)\n",
    "fpr, tpr, thresholds = roc_curve(y_test1, y_pred1)\n",
    "\n",
    "plt.plot(fpr, tpr, 'g-',label ='LR AUC:%.3f'%auc)\n",
    "plt.legend(loc=4)\n",
    "\n",
    "plt.show()"
   ]
  },
  {
   "cell_type": "code",
   "execution_count": 43,
   "id": "abc34516",
   "metadata": {},
   "outputs": [
    {
     "data": {
      "image/png": "[encoded data removed]",
      "text/plain": [
       "<Figure size 432x288 with 1 Axes>"
      ]
     },
     "metadata": {
      "needs_background": "light"
     },
     "output_type": "display_data"
    }
   ],
   "source": [
    "#learning curve of the RF\n",
    "LearningCurve(rf1, overX,overY)"
   ]
  },
  {
   "cell_type": "code",
   "execution_count": 68,
   "id": "8b03c164",
   "metadata": {},
   "outputs": [],
   "source": [
    "mse, bias, var = bias_variance_decomp\\\n",
    "(rf1, x_train1, y_train1.values, x_test1, y_test1.values, loss='mse', num_rounds=20, random_seed=42)"
   ]
  },
  {
   "cell_type": "code",
   "execution_count": 69,
   "id": "719eda60",
   "metadata": {},
   "outputs": [
    {
     "name": "stdout",
     "output_type": "stream",
     "text": [
      "MSE: 0.342\n",
      "Bias: 0.307\n",
      "Variance: 0.035\n"
     ]
    }
   ],
   "source": [
    "print('MSE: %.3f' % mse)\n",
    "print('Bias: %.3f' % bias)\n",
    "print('Variance: %.3f' % var)"
   ]
  },
  {
   "cell_type": "markdown",
   "id": "1c69560e",
   "metadata": {},
   "source": [
    "<h2>NearMiss Undersampling"
   ]
  },
  {
   "cell_type": "code",
   "execution_count": 52,
   "id": "f6e92932",
   "metadata": {},
   "outputs": [],
   "source": [
    "#copping the data to new variable \n",
    "df3 = df.copy()"
   ]
  },
  {
   "cell_type": "code",
   "execution_count": 53,
   "id": "f9c5a4ce",
   "metadata": {},
   "outputs": [],
   "source": [
    "#splitting the data into target and features\n",
    "Y2 = df3['click']\n",
    "X2 = df3.drop('click', axis =1 )"
   ]
  },
  {
   "cell_type": "code",
   "execution_count": 54,
   "id": "c929f235",
   "metadata": {},
   "outputs": [],
   "source": [
    "#splitting the data into train and test\n",
    "x_train3, x_test3, y_train3, y_test3 = train_test_split(X2, Y2, test_size=0.3, random_state=42)"
   ]
  },
  {
   "cell_type": "code",
   "execution_count": 55,
   "id": "bd582425",
   "metadata": {},
   "outputs": [],
   "source": [
    "#applying the NearMiss Undersampling on the X and Y and fitting it \n",
    "nr = NearMiss()\n",
    "X_train_miss, y_train_miss = nr.fit_resample(x_train3, y_train3.ravel())"
   ]
  },
  {
   "cell_type": "code",
   "execution_count": 56,
   "id": "3b883429",
   "metadata": {},
   "outputs": [
    {
     "data": {
      "image/png": "[encoded data removed]",
      "text/plain": [
       "<Figure size 576x432 with 1 Axes>"
      ]
     },
     "metadata": {
      "needs_background": "light"
     },
     "output_type": "display_data"
    }
   ],
   "source": [
    "#bar plot for the classes after applying NearMiss Undersampling for handling the data imbalance \n",
    "ax=pd.DataFrame(y_train_miss,columns=['click'])['click'].value_counts().plot(kind='bar',color=['red','blue'],\n",
    "                                          title='classes',figsize=(8, 6))\n",
    "\n",
    "plt.xticks(range(2),['0', '1'])\n",
    "ax.set_xlabel(\"clicks\",fontsize=16)\n",
    "ax.set_ylabel(\"Count\",fontsize=14)\n",
    "plt.show()"
   ]
  },
  {
   "cell_type": "code",
   "execution_count": 57,
   "id": "2ee30bfe",
   "metadata": {},
   "outputs": [],
   "source": [
    "#splitting the data again after the NearMiss Undersampling to apply the RandomForest Classifier and checking the accuracy\n",
    "x_train4, x_test4, y_train4, y_test4 = train_test_split(X_train_miss, y_train_miss, test_size=0.3,random_state=42)\n",
    "x_train4 = St.fit_transform(x_train4)\n",
    "x_test4 = St.fit_transform(x_test4)\n",
    "rf2 = RandomForestClassifier(n_estimators = 100, random_state=42)\n",
    "rf2.fit(x_train4, y_train4)\n",
    "y_pred4=rf.predict(x_test4)"
   ]
  },
  {
   "cell_type": "code",
   "execution_count": 58,
   "id": "596c527d",
   "metadata": {},
   "outputs": [
    {
     "name": "stdout",
     "output_type": "stream",
     "text": [
      "ACC of model: 0.5003 After NearMiss Undersampling\n"
     ]
    }
   ],
   "source": [
    "#printing the accuracy of the RandomForest Classifier\n",
    "print(\"ACC of model: %.4f After NearMiss Undersampling\" %accuracy_score(y_pred4,y_test4))"
   ]
  },
  {
   "cell_type": "code",
   "execution_count": 59,
   "id": "c962fcf9",
   "metadata": {},
   "outputs": [
    {
     "name": "stderr",
     "output_type": "stream",
     "text": [
      "D:\\Anaconda\\lib\\site-packages\\sklearn\\utils\\deprecation.py:87: FutureWarning: Function plot_confusion_matrix is deprecated; Function `plot_confusion_matrix` is deprecated in 1.0 and will be removed in 1.2. Use one of the class methods: ConfusionMatrixDisplay.from_predictions or ConfusionMatrixDisplay.from_estimator.\n",
      "  warnings.warn(msg, category=FutureWarning)\n"
     ]
    },
    {
     "data": {
      "text/plain": [
       "<sklearn.metrics._plot.confusion_matrix.ConfusionMatrixDisplay at 0x21266c1ffd0>"
      ]
     },
     "execution_count": 59,
     "metadata": {},
     "output_type": "execute_result"
    },
    {
     "data": {
      "image/png": "[encoded data removed]",
      "text/plain": [
       "<Figure size 432x288 with 2 Axes>"
      ]
     },
     "metadata": {
      "needs_background": "light"
     },
     "output_type": "display_data"
    }
   ],
   "source": [
    "#plotting the confusion matrix\n",
    "plot_confusion_matrix(rf2,x_test4,y_test4)"
   ]
  },
  {
   "cell_type": "code",
   "execution_count": 60,
   "id": "609960e4",
   "metadata": {},
   "outputs": [
    {
     "data": {
      "image/png": "[encoded data removed]",
      "text/plain": [
       "<Figure size 432x288 with 1 Axes>"
      ]
     },
     "metadata": {
      "needs_background": "light"
     },
     "output_type": "display_data"
    }
   ],
   "source": [
    "#plotting the ROC curve\n",
    "auc = roc_auc_score(y_pred4, y_test4)\n",
    "fpr, tpr, thresholds = roc_curve(y_test4, y_pred4)\n",
    "\n",
    "plt.plot(fpr, tpr, 'g-',label ='LR AUC:%.3f'%auc)\n",
    "plt.legend(loc=4)\n",
    "\n",
    "plt.show()"
   ]
  },
  {
   "cell_type": "code",
   "execution_count": 61,
   "id": "70b51678",
   "metadata": {},
   "outputs": [
    {
     "data": {
      "image/png": "[encoded data removed]",
      "text/plain": [
       "<Figure size 432x288 with 1 Axes>"
      ]
     },
     "metadata": {
      "needs_background": "light"
     },
     "output_type": "display_data"
    }
   ],
   "source": [
    "#learning curve of the RF\n",
    "LearningCurve(rf2, X_train_miss, y_train_miss)"
   ]
  },
  {
   "cell_type": "code",
   "execution_count": 62,
   "id": "c2cffb28",
   "metadata": {},
   "outputs": [],
   "source": [
    "mse, bias, var = bias_variance_decomp\\\n",
    "(rf2, x_train4, y_train4, x_test4, y_test4, loss='mse', num_rounds=20, random_seed=42)"
   ]
  },
  {
   "cell_type": "code",
   "execution_count": 63,
   "id": "f29f520c",
   "metadata": {},
   "outputs": [
    {
     "name": "stdout",
     "output_type": "stream",
     "text": [
      "MSE: 0.290\n",
      "Bias: 0.219\n",
      "Variance: 0.070\n"
     ]
    }
   ],
   "source": [
    "print('MSE: %.3f' % mse)\n",
    "print('Bias: %.3f' % bias)\n",
    "print('Variance: %.3f' % var)"
   ]
  },
  {
   "cell_type": "code",
   "execution_count": null,
   "id": "20bd7efd",
   "metadata": {},
   "outputs": [],
   "source": []
  },
  {
   "cell_type": "code",
   "execution_count": 64,
   "id": "16c4388b",
   "metadata": {},
   "outputs": [
    {
     "data": {
      "text/plain": [
       "<BarContainer object of 3 artists>"
      ]
     },
     "execution_count": 64,
     "metadata": {},
     "output_type": "execute_result"
    },
    {
     "data": {
      "image/png": "[encoded data removed]",
      "text/plain": [
       "<Figure size 720x360 with 1 Axes>"
      ]
     },
     "metadata": {
      "needs_background": "light"
     },
     "output_type": "display_data"
    }
   ],
   "source": [
    "#visualization of the accuracies of the RF models in the 3 methods after the handling the data imbalance \n",
    "data = {'RF Random oversampling':0.7551, 'RF SMOTE': 0.5548, 'RF NearMiss Undersampling':0.5003}\n",
    "names = list(data.keys())\n",
    "acc = list(data.values())\n",
    "  \n",
    "fig = plt.figure(figsize = (10, 5))\n",
    " \n",
    "# creating the bar plot\n",
    "plt.bar(names, acc, color ='maroon',\n",
    "        width = 0.4)"
   ]
  },
  {
   "cell_type": "code",
   "execution_count": null,
   "id": "6f271891",
   "metadata": {},
   "outputs": [],
   "source": []
  }
 ],
 "metadata": {
  "kernelspec": {
   "display_name": "Python 3 (ipykernel)",
   "language": "python",
   "name": "python3"
  },
  "language_info": {
   "codemirror_mode": {
    "name": "ipython",
    "version": 3
   },
   "file_extension": ".py",
   "mimetype": "text/x-python",
   "name": "python",
   "nbconvert_exporter": "python",
   "pygments_lexer": "ipython3",
   "version": "3.9.7"
  }
 },
 "nbformat": 4,
 "nbformat_minor": 5
}
